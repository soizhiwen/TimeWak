{
 "cells": [
  {
   "cell_type": "code",
   "execution_count": null,
   "metadata": {},
   "outputs": [],
   "source": [
    "import os\n",
    "import numpy as np\n",
    "import pandas as pd\n",
    "import sys\n",
    "import matplotlib.pyplot as plt\n",
    "\n",
    "sys.path.append(os.path.join(os.path.dirname(\"__file__\"), \"../\"))\n",
    "from Utils.watermark_metrics import get_zscore"
   ]
  },
  {
   "cell_type": "markdown",
   "metadata": {},
   "source": [
    "## Z-score"
   ]
  },
  {
   "cell_type": "code",
   "execution_count": null,
   "metadata": {},
   "outputs": [],
   "source": [
    "# if method == \"htw\":\n",
    "w_data = pd.read_csv(\n",
    "    f\"../OUTPUT/stocks-detect-htw-24/htw.csv\",  # Replace this\n",
    "    header=None,\n",
    ").values\n",
    "mean_z, std_z = w_data.mean(), w_data.std()\n",
    "print(f\"Z-score: {mean_z:.2f} \\xb1 {std_z:.2f}\")"
   ]
  },
  {
   "cell_type": "code",
   "execution_count": null,
   "metadata": {},
   "outputs": [],
   "source": [
    "# else:\n",
    "wo_data = pd.read_csv(\n",
    "    f\"../OUTPUT/stocks-detect-wo-timewak-24/timewak.csv\",  # Replace this\n",
    "    header=None,\n",
    ").values\n",
    "w_data = pd.read_csv(\n",
    "    f\"../OUTPUT/stocks-detect-timewak-24/timewak.csv\",  # Replace this\n",
    "    header=None,\n",
    ").values\n",
    "mean_z, std_z, _ = get_zscore(\"timewak\", wo_data, w_data)\n",
    "print(f\"Z-score: {mean_z:.2f} \\xb1 {std_z:.2f}\")"
   ]
  },
  {
   "cell_type": "markdown",
   "metadata": {},
   "source": [
    "## TPR@0.1%FPR"
   ]
  },
  {
   "cell_type": "code",
   "execution_count": null,
   "metadata": {},
   "outputs": [],
   "source": [
    "plt.rcParams.update({\"font.family\": \"serif\"})\n",
    "plt.rcParams[\"font.size\"] = 14  # Base font size\n",
    "plt.rcParams[\"axes.labelsize\"] = 22  # Larger font size for axis labels\n",
    "plt.rcParams[\"legend.fontsize\"] = 16  # Font size for legends\n",
    "plt.rcParams[\"xtick.labelsize\"] = 16  # Font size for x-axis ticks\n",
    "plt.rcParams[\"ytick.labelsize\"] = 16  # Font size for y-axis ticks\n",
    "plt.rcParams[\"axes.linewidth\"] = 1.5  # Make axis lines a bit thicker for visibility\n",
    "\n",
    "num_samples = np.arange(1, 11, 1)\n",
    "\n",
    "tprs = []\n",
    "for num_sample in num_samples:\n",
    "    try:\n",
    "        wo_data = pd.read_csv(\n",
    "            f\"../OUTPUT/stocks-detect-wo-timewak-24/timewak.csv\",  # Replace this\n",
    "            header=None,\n",
    "        ).values\n",
    "        w_data = pd.read_csv(\n",
    "            f\"../OUTPUT/stocks-detect-timewak-24/timewak.csv\",  # Replace this\n",
    "            header=None,\n",
    "        ).values\n",
    "        _, _, tpr = get_zscore(\"timewak\", wo_data, w_data, num_sample=num_sample)\n",
    "        tprs.append(tpr)\n",
    "    except:\n",
    "        print(\"Error\")\n",
    "\n",
    "plt.plot(num_samples, tprs, label=\"TimeWak\", marker=\"*\", color=\"b\", lw=2.0)\n",
    "plt.xlabel(\"Number of Samples\")\n",
    "plt.ylabel(\"TPR@0.1%FPR\")\n",
    "plt.ylim([-0.02, 1.05])\n",
    "plt.legend()\n",
    "plt.tight_layout()\n",
    "plt.show()"
   ]
  }
 ],
 "metadata": {
  "kernelspec": {
   "display_name": ".venv",
   "language": "python",
   "name": "python3"
  },
  "language_info": {
   "codemirror_mode": {
    "name": "ipython",
    "version": 3
   },
   "file_extension": ".py",
   "mimetype": "text/x-python",
   "name": "python",
   "nbconvert_exporter": "python",
   "pygments_lexer": "ipython3",
   "version": "3.10.12"
  }
 },
 "nbformat": 4,
 "nbformat_minor": 2
}
