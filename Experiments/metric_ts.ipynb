{
 "cells": [
  {
   "cell_type": "code",
   "execution_count": null,
   "id": "0dc66ea6",
   "metadata": {},
   "outputs": [],
   "source": [
    "import sys\n",
    "import os\n",
    "import numpy as np\n",
    "\n",
    "sys.path.append(os.path.join(os.path.dirname('__file__'), '../'))\n",
    "from Utils.feature_based_metrics import calculate_mdd, calculate_acd, calculate_sd,calculate_kd "
   ]
  },
  {
   "cell_type": "markdown",
   "id": "7a29f27a",
   "metadata": {},
   "source": [
    "## Data Loading"
   ]
  },
  {
   "cell_type": "code",
   "execution_count": null,
   "id": "7459b1a7",
   "metadata": {},
   "outputs": [],
   "source": [
    "ori_data = np.load(\n",
    "    \"../OUTPUT/stocks-sample-timewak-24/samples/stock_norm_truth_24_train.npy\"  # Replace this\n",
    ")\n",
    "fake_data = np.load(\n",
    "    \"../OUTPUT/stocks-sample-timewak-24/ddpm_fake_norm_stocks-sample-timewak-24.npy\"  # Replace this\n",
    ")"
   ]
  },
  {
   "cell_type": "markdown",
   "id": "38c42768",
   "metadata": {},
   "source": [
    "- Marginal Distribution Difference (MDD)\n",
    "- AutoCorrelation Difference (ACD)\n",
    "- Skewness Difference (SD)\n",
    "- Kurtosis Difference (KD)"
   ]
  },
  {
   "cell_type": "code",
   "execution_count": null,
   "id": "4af22f72",
   "metadata": {},
   "outputs": [],
   "source": [
    "mdd = calculate_mdd(ori_data, fake_data)\n",
    "acd = calculate_acd(ori_data, fake_data)\n",
    "sd = calculate_sd(ori_data, fake_data)\n",
    "kd = calculate_kd(ori_data, fake_data)\n",
    "\n",
    "print(f\"MDD: {mdd:.3f}, ACD: {acd:.3f}, SD: {sd:.3f}, KD: {kd:.3f}\")"
   ]
  }
 ],
 "metadata": {
  "kernelspec": {
   "display_name": ".venv",
   "language": "python",
   "name": "python3"
  },
  "language_info": {
   "codemirror_mode": {
    "name": "ipython",
    "version": 3
   },
   "file_extension": ".py",
   "mimetype": "text/x-python",
   "name": "python",
   "nbconvert_exporter": "python",
   "pygments_lexer": "ipython3",
   "version": "3.10.12"
  }
 },
 "nbformat": 4,
 "nbformat_minor": 5
}
